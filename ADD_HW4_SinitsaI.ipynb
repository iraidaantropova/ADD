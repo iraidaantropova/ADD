{
  "nbformat": 4,
  "nbformat_minor": 0,
  "metadata": {
    "colab": {
      "provenance": [],
      "authorship_tag": "ABX9TyOJhfrKUkJ6tUAzd65vjuFv",
      "include_colab_link": true
    },
    "kernelspec": {
      "name": "python3",
      "display_name": "Python 3"
    },
    "language_info": {
      "name": "python"
    }
  },
  "cells": [
    {
      "cell_type": "markdown",
      "metadata": {
        "id": "view-in-github",
        "colab_type": "text"
      },
      "source": [
        "<a href=\"https://colab.research.google.com/github/iraidaantropova/ADD/blob/main/ADD_HW4_SinitsaI.ipynb\" target=\"_parent\"><img src=\"https://colab.research.google.com/assets/colab-badge.svg\" alt=\"Open In Colab\"/></a>"
      ]
    },
    {
      "cell_type": "code",
      "execution_count": 1,
      "metadata": {
        "id": "0Hf3KPU_8P0d"
      },
      "outputs": [],
      "source": [
        "import matplotlib.pyplot as plt\n",
        "import random\n",
        "\n",
        "from matplotlib.colors import ListedColormap\n",
        "from sklearn.datasets import make_classification, make_circles,make_regression\n",
        "from sklearn.tree import DecisionTreeClassifier, DecisionTreeRegressor, plot_tree\n",
        "from sklearn.metrics import accuracy_score\n",
        "from sklearn.model_selection import train_test_split\n",
        "from tqdm import tqdm\n",
        "\n",
        "import numpy as np\n",
        "import pandas as pd\n",
        "\n",
        "import warnings\n",
        "warnings.filterwarnings('ignore')\n"
      ]
    },
    {
      "cell_type": "markdown",
      "source": [
        "Урок 4. Алгоритм построения дерева решений\n",
        "\n",
        "Реализуйте дерево для задачи регрессии.\n",
        "\n",
        "Возьмите за основу дерево, реализованное в методичке, заменив механизм предсказания в листе на взятие среднего значения по выборке, и критерий Джини на дисперсию значений."
      ],
      "metadata": {
        "id": "H4OilkWsApE0"
      }
    },
    {
      "cell_type": "code",
      "source": [
        "# Реализую класс узла\n",
        "\n",
        "class Node:\n",
        "    \n",
        "    def __init__(self, index, t, true_branch, false_branch):\n",
        "        self.index = index  # индекс признака, по которому ведется сравнение с порогом в этом узле\n",
        "        self.t = t  # значение порога\n",
        "        self.true_branch = true_branch  # поддерево, удовлетворяющее условию в узле\n",
        "        self.false_branch = false_branch  # поддерево, не удовлетворяющее условию в узле"
      ],
      "metadata": {
        "id": "xorWYqTpcLrD"
      },
      "execution_count": 2,
      "outputs": []
    },
    {
      "cell_type": "code",
      "source": [
        "# Расчет прироста\n",
        "\n",
        "def gain(left_labels, right_labels, root_criterion, criterion):\n",
        "\n",
        "    # доля выборки, ушедшая в левое поддерево\n",
        "    p = float(left_labels.shape[0]) / (left_labels.shape[0] + right_labels.shape[0])\n",
        "    \n",
        "    return root_criterion - p * criterion(left_labels) - (1 - p) * criterion(right_labels)"
      ],
      "metadata": {
        "id": "2nmPws0gcXp7"
      },
      "execution_count": 3,
      "outputs": []
    },
    {
      "cell_type": "code",
      "source": [
        "# Разбиение датасета в узле\n",
        "\n",
        "def split(data, labels, column_index, t):\n",
        "    \n",
        "    left = np.where(data[:, column_index] <= t)\n",
        "    right = np.where(data[:, column_index] > t)\n",
        "        \n",
        "    true_data = data[left]\n",
        "    false_data = data[right]\n",
        "    \n",
        "    true_labels = labels[left]\n",
        "    false_labels = labels[right]\n",
        "        \n",
        "    return true_data, false_data, true_labels, false_labels"
      ],
      "metadata": {
        "id": "Nf-E4VBKcfG5"
      },
      "execution_count": 4,
      "outputs": []
    },
    {
      "cell_type": "code",
      "source": [
        "def classify_object(obj, node):\n",
        "\n",
        "    #  Останавливаю рекурсию, если достигла листа\n",
        "    if isinstance(node, Leaf):\n",
        "        answer = node.prediction\n",
        "        return answer\n",
        "\n",
        "    if obj[node.index] <= node.t:\n",
        "        return classify_object(obj, node.true_branch)\n",
        "    else:\n",
        "        return classify_object(obj, node.false_branch)"
      ],
      "metadata": {
        "id": "GQ8IMfP6c9G9"
      },
      "execution_count": 5,
      "outputs": []
    },
    {
      "cell_type": "code",
      "source": [
        "def predict(data, tree):\n",
        "    \n",
        "    classes = []\n",
        "    for obj in data:\n",
        "        prediction = classify_object(obj, tree)\n",
        "        classes.append(prediction)\n",
        "    return classes"
      ],
      "metadata": {
        "id": "RFckV-G6dA1q"
      },
      "execution_count": 6,
      "outputs": []
    },
    {
      "cell_type": "code",
      "source": [
        "# Напечатаю ход дерева\n",
        "def print_tree(node, spacing=\"\"):\n",
        "\n",
        "    # Если лист, то вывожу его прогноз\n",
        "    if isinstance(node, Leaf):\n",
        "        print(spacing + \"Прогноз:\", node.prediction)\n",
        "        return\n",
        "\n",
        "    # Вывожу значение индекса и порога на этом узле\n",
        "    print(spacing + 'Индекс', str(node.index), '<=', str(node.t))\n",
        "\n",
        "    # Рекурсионный вызов функции на положительном поддереве\n",
        "    print(spacing + '--> True:')\n",
        "    print_tree(node.true_branch, spacing + \"  \")\n",
        "\n",
        "    # Рекурсионный вызов функции на отрицательном поддереве\n",
        "    print(spacing + '--> False:')\n",
        "    print_tree(node.false_branch, spacing + \"  \")\n",
        "    \n"
      ],
      "metadata": {
        "id": "0UjgZNDTdXVG"
      },
      "execution_count": 9,
      "outputs": []
    },
    {
      "cell_type": "code",
      "source": [
        "# сгенерирую данные\n",
        "data, targets = make_regression(n_features=2, n_informative=2, random_state=5)"
      ],
      "metadata": {
        "id": "y14tw-fqd_l_"
      },
      "execution_count": 10,
      "outputs": []
    },
    {
      "cell_type": "code",
      "source": [
        "# разбиваю выборку на обучающую и тестовую \n",
        "\n",
        "from sklearn.model_selection import train_test_split\n",
        "\n",
        "train_data_reg, test_data_reg, train_target_reg, test_target_reg = train_test_split(data, \n",
        "                                                                    targets, \n",
        "                                                                    test_size=0.3,\n",
        "                                                                    random_state=1)"
      ],
      "metadata": {
        "id": "fpnFTOA6eX6N"
      },
      "execution_count": 12,
      "outputs": []
    },
    {
      "cell_type": "code",
      "source": [
        "# И класс терминального узла (листа)\n",
        "\n",
        "class Leaf:\n",
        "    \n",
        "    def __init__(self, data, targets):\n",
        "        self.data = data\n",
        "        self.targets = targets\n",
        "        self.prediction = self.predict()\n",
        "        \n",
        "    def predict(self):\n",
        "        return self.targets.mean()"
      ],
      "metadata": {
        "id": "mLvSLz7kfPDE"
      },
      "execution_count": 13,
      "outputs": []
    },
    {
      "cell_type": "code",
      "source": [
        "def mse(targets):\n",
        "    return np.mean((targets - targets.mean())**2)"
      ],
      "metadata": {
        "id": "yzpLXe_8gSP2"
      },
      "execution_count": 14,
      "outputs": []
    },
    {
      "cell_type": "code",
      "source": [
        "# Нахождение наилучшего разбиения\n",
        "\n",
        "def find_best_split(data, targets):\n",
        "    \n",
        "    #  обозначим минимальное количество объектов в узле\n",
        "    min_samples_leaf = 5\n",
        "\n",
        "    root_mse = mse(targets)\n",
        "\n",
        "    best_gain = 0\n",
        "    best_t = None\n",
        "    best_index = None\n",
        "    \n",
        "    n_features = data.shape[1]\n",
        "    \n",
        "    for index in range(n_features):\n",
        "        # буду проверять только уникальные значения признака, исключая повторения\n",
        "        t_values = np.unique(data[:, index])\n",
        "        \n",
        "        for t in t_values:\n",
        "            true_data, false_data, true_targets, false_targets = split(data, targets, index, t)\n",
        "            #  пропуска. разбиения, в которых в узле остается менее 5 объектов\n",
        "            if len(true_data) < min_samples_leaf or len(false_data) < min_samples_leaf:\n",
        "                continue\n",
        "            \n",
        "            current_gain = gain(true_targets, false_targets, root_mse, mse)\n",
        "            \n",
        "            #  выбира. порог, на котором получается максимальный прирост качества\n",
        "            if current_gain > best_gain:\n",
        "                best_gain, best_t, best_index = current_gain, t, index\n",
        "\n",
        "    return best_gain, best_t, best_index"
      ],
      "metadata": {
        "id": "Ka68o7uWgeCt"
      },
      "execution_count": 16,
      "outputs": []
    },
    {
      "cell_type": "code",
      "source": [
        "import time\n",
        "# Построение дерева с помощью рекурсивной функции\n",
        "\n",
        "def build_tree(data, target):\n",
        "\n",
        "    gain, t, index = find_best_split(data, target)\n",
        "\n",
        "    #  Базовый случай - прекращаем рекурсию, когда нет прироста в качества\n",
        "    if gain == 0:\n",
        "        return Leaf(data, target)\n",
        "\n",
        "    true_data, false_data, true_target, false_target = split(data, target, index, t)\n",
        "\n",
        "    # Рекурсивно строю два поддерева\n",
        "    true_branch = build_tree(true_data, true_target)\n",
        "\n",
        "#     print(time.time(), true_branch)\n",
        "    false_branch = build_tree(false_data, false_target)\n",
        "    \n",
        "#     print(time.time(), false_branch)\n",
        "    \n",
        "    # Возвращаю класс узла со всеми поддеревьями, то есть целого дерева\n",
        "    return Node(index, t, true_branch, false_branch)"
      ],
      "metadata": {
        "id": "2dUtIFSyhc6w"
      },
      "execution_count": 17,
      "outputs": []
    },
    {
      "cell_type": "code",
      "source": [
        "# Построю дерево по обучающей выборке\n",
        "my_tree = build_tree(train_data_reg, train_target_reg)\n",
        "print_tree(my_tree)"
      ],
      "metadata": {
        "colab": {
          "base_uri": "https://localhost:8080/"
        },
        "id": "VLQJR20Xj4KD",
        "outputId": "82f243e7-2fd6-4ca9-f3d6-aa7d2dc9fee2"
      },
      "execution_count": 18,
      "outputs": [
        {
          "output_type": "stream",
          "name": "stdout",
          "text": [
            "Индекс 0 <= -0.10061434630710828\n",
            "--> True:\n",
            "  Индекс 0 <= -0.8568531547160899\n",
            "  --> True:\n",
            "    Прогноз: -109.75655471490919\n",
            "  --> False:\n",
            "    Индекс 0 <= -0.5732155560138283\n",
            "    --> True:\n",
            "      Прогноз: -54.35634172577482\n",
            "    --> False:\n",
            "      Индекс 1 <= -0.3058530211666308\n",
            "      --> True:\n",
            "        Прогноз: -29.105630694331246\n",
            "      --> False:\n",
            "        Прогноз: -10.772916465924025\n",
            "--> False:\n",
            "  Индекс 0 <= 0.9068894675659355\n",
            "  --> True:\n",
            "    Индекс 1 <= 0.6566194702604272\n",
            "    --> True:\n",
            "      Индекс 1 <= -1.0650326193820066\n",
            "      --> True:\n",
            "        Прогноз: 7.798014762375311\n",
            "      --> False:\n",
            "        Индекс 0 <= 0.41367880834311616\n",
            "        --> True:\n",
            "          Прогноз: 17.019366109004093\n",
            "        --> False:\n",
            "          Прогноз: 35.95087900163848\n",
            "    --> False:\n",
            "      Индекс 0 <= 0.34691932708774675\n",
            "      --> True:\n",
            "        Прогноз: 37.4238776327042\n",
            "      --> False:\n",
            "        Прогноз: 61.9558421220885\n",
            "  --> False:\n",
            "    Индекс 0 <= 1.3348485742415819\n",
            "    --> True:\n",
            "      Прогноз: 77.83232966482356\n",
            "    --> False:\n",
            "      Прогноз: 123.1031262020856\n"
          ]
        }
      ]
    }
  ]
}