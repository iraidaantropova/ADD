{
  "nbformat": 4,
  "nbformat_minor": 0,
  "metadata": {
    "colab": {
      "provenance": [],
      "authorship_tag": "ABX9TyOXoNHA8jn2JjJFGOb8oWSt",
      "include_colab_link": true
    },
    "kernelspec": {
      "name": "python3",
      "display_name": "Python 3"
    },
    "language_info": {
      "name": "python"
    }
  },
  "cells": [
    {
      "cell_type": "markdown",
      "metadata": {
        "id": "view-in-github",
        "colab_type": "text"
      },
      "source": [
        "<a href=\"https://colab.research.google.com/github/iraidaantropova/ADD/blob/main/ADD_HW3_SinitsaI.ipynb\" target=\"_parent\"><img src=\"https://colab.research.google.com/assets/colab-badge.svg\" alt=\"Open In Colab\"/></a>"
      ]
    },
    {
      "cell_type": "code",
      "execution_count": 1,
      "metadata": {
        "id": "t3GCozOEoE7V"
      },
      "outputs": [],
      "source": [
        "import numpy as np\n",
        "import pandas as pd\n",
        "import matplotlib.pyplot as plt\n",
        "\n",
        "\n",
        "%matplotlib inline"
      ]
    },
    {
      "cell_type": "markdown",
      "source": [
        "Урок 3. Логистическая регрессия. Log Loss\n",
        "\n",
        "Домашнее задание:\n",
        "\n",
        "Используя файл Lesson_3_extended.ipynb (он в web3.zip в материалах):"
      ],
      "metadata": {
        "id": "PU2PzInwuZiW"
      }
    },
    {
      "cell_type": "markdown",
      "source": [
        "*Измените функцию calc_logloss так, чтобы нули по возможности не попадали в np.log.\n",
        "\n",
        "Исходные данные:"
      ],
      "metadata": {
        "id": "Kmec10NHugNG"
      }
    },
    {
      "cell_type": "code",
      "source": [
        "X = np.array([[1, 1, 1, 1, 1, 1, 1, 1, 1, 1],\n",
        "              [1, 1, 2, 1, 3, 0, 5, 10, 1, 2],\n",
        "              [500, 700, 750, 600, 1450,\n",
        "               800, 1500, 2000, 450, 1000],\n",
        "              [1, 1, 2, 1, 2, 1, 3, 3, 1, 2]], dtype = np.float64)\n",
        "\n",
        "y = np.array([0, 0, 1, 0, 1, 0, 1, 0, 1, 1], dtype = np.float64)"
      ],
      "metadata": {
        "id": "sqBYclwyoMdQ"
      },
      "execution_count": 3,
      "outputs": []
    },
    {
      "cell_type": "code",
      "source": [
        "def standard_scale(x):\n",
        "    res = (x - x.mean()) / x.std()\n",
        "    return res"
      ],
      "metadata": {
        "id": "Y4Gvb3_conuR"
      },
      "execution_count": 35,
      "outputs": []
    },
    {
      "cell_type": "code",
      "source": [
        "X_st = X.copy()\n",
        "X_st[2, :] = standard_scale(X[2, :])"
      ],
      "metadata": {
        "id": "W8ZB90QTog86"
      },
      "execution_count": 36,
      "outputs": []
    },
    {
      "cell_type": "code",
      "source": [
        "def sigmoid(z):\n",
        "    res = 1 / (1 + np.exp(-z))\n",
        "    return res"
      ],
      "metadata": {
        "id": "Ap8WCn5Toiic"
      },
      "execution_count": 37,
      "outputs": []
    },
    {
      "cell_type": "code",
      "source": [
        "def calc_logloss(y, y_pred):\n",
        "    err = - np.mean(y * np.log(y_pred) + (1.0 - y) * np.log(1.0 - y_pred))\n",
        "    return err"
      ],
      "metadata": {
        "id": "YEo1PMmXorY2"
      },
      "execution_count": 38,
      "outputs": []
    },
    {
      "cell_type": "code",
      "source": [
        "def eval_model(X, y, iterations, eta=1e-4):\n",
        "    np.random.seed(42)\n",
        "    W = np.random.randn(X.shape[0])\n",
        "    n = X.shape[1]\n",
        "    for i in range(1, iterations+1):\n",
        "        z = np.dot(W, X)\n",
        "        y_pred = sigmoid(z)\n",
        "        err = calc_logloss(y, y_pred)\n",
        "        W -= eta * (1/n * np.dot((y_pred - y), X.T))\n",
        "    if i % (iterations / 10) == 0:\n",
        "        print(i, W, err)\n",
        "    return W\n"
      ],
      "metadata": {
        "id": "WbdY-Y9SoxF4"
      },
      "execution_count": 39,
      "outputs": []
    },
    {
      "cell_type": "markdown",
      "source": [
        "Изменяем функцию:"
      ],
      "metadata": {
        "id": "lQT7KBAxvWg0"
      }
    },
    {
      "cell_type": "code",
      "source": [
        "def calc_logloss_mod(y, y_pred):\n",
        "    y_pred_res=np.where(y_pred==1, y_pred-1e-07, np.where(y_pred==0, y_pred+1e-07, y_pred))\n",
        "    err = - np.mean(y * np.log(y_pred_res) + (1.0 - y) * np.log(1.0 - y_pred_res))\n",
        "    return err"
      ],
      "metadata": {
        "id": "VrK45QxcpQ5U"
      },
      "execution_count": 40,
      "outputs": []
    },
    {
      "cell_type": "markdown",
      "source": [
        "Для того чтобы проверить изменяю вектор предсказанных значений, добавив в него нули и единицы"
      ],
      "metadata": {
        "id": "HQlPcYo3vVRa"
      }
    },
    {
      "cell_type": "code",
      "source": [
        "y_pred1=np.array([0.56505739, 0., 0.73651677, 0.55438552, 1.,\n",
        "       0.57898984, 0.76922923, 0.5133091 , 0., 0.7149758 ])\n",
        "calc_logloss_mod(y, y_pred1)"
      ],
      "metadata": {
        "colab": {
          "base_uri": "https://localhost:8080/"
        },
        "id": "oajMfPd_pTOI",
        "outputId": "2ba67c47-fd46-48df-d720-4b26cafdc9b6"
      },
      "execution_count": 41,
      "outputs": [
        {
          "output_type": "execute_result",
          "data": {
            "text/plain": [
              "2.024785862818215"
            ]
          },
          "metadata": {},
          "execution_count": 41
        }
      ]
    },
    {
      "cell_type": "code",
      "source": [
        "calc_logloss(y, y_pred1)"
      ],
      "metadata": {
        "colab": {
          "base_uri": "https://localhost:8080/"
        },
        "id": "rFQvnX0DpVD3",
        "outputId": "81417e6b-3b3a-4969-9b39-0fd0e2fe68bd"
      },
      "execution_count": 42,
      "outputs": [
        {
          "output_type": "stream",
          "name": "stderr",
          "text": [
            "<ipython-input-38-7d5907c1794a>:2: RuntimeWarning: divide by zero encountered in log\n",
            "  err = - np.mean(y * np.log(y_pred) + (1.0 - y) * np.log(1.0 - y_pred))\n",
            "<ipython-input-38-7d5907c1794a>:2: RuntimeWarning: invalid value encountered in multiply\n",
            "  err = - np.mean(y * np.log(y_pred) + (1.0 - y) * np.log(1.0 - y_pred))\n"
          ]
        },
        {
          "output_type": "execute_result",
          "data": {
            "text/plain": [
              "nan"
            ]
          },
          "metadata": {},
          "execution_count": 42
        }
      ]
    },
    {
      "cell_type": "markdown",
      "source": [
        "Подберите аргументы функции eval_model для логистической регрессии таким образом, чтобы log loss был минимальным"
      ],
      "metadata": {
        "id": "7NHoO7S2vP6z"
      }
    },
    {
      "cell_type": "code",
      "source": [
        "def eval_model(X, y, iterations, eta=1e-4):\n",
        "    np.random.seed(42)\n",
        "    W = np.random.randn(X.shape[0])\n",
        "    n = X.shape[1]\n",
        "    for i in range(1, iterations+1):\n",
        "        z = np.dot(W, X)\n",
        "        y_pred = sigmoid(z)\n",
        "        err = calc_logloss_mod(y, y_pred) # заменяю на измененную ранее функцию\n",
        "        W -= eta * (1/n * np.dot((y_pred - y), X.T))\n",
        "    if i % (iterations / 10) == 0:\n",
        "        print(i, W, err)\n",
        "    return W"
      ],
      "metadata": {
        "id": "Gg7CFG6EpjNq"
      },
      "execution_count": 43,
      "outputs": []
    },
    {
      "cell_type": "code",
      "source": [
        "W = eval_model(X_st, y, iterations=1000, eta=1e-5)"
      ],
      "metadata": {
        "colab": {
          "base_uri": "https://localhost:8080/"
        },
        "id": "vecocDI-plCh",
        "outputId": "fb577860-407b-4cd7-defa-3133bc24b893"
      },
      "execution_count": 44,
      "outputs": [
        {
          "output_type": "stream",
          "name": "stdout",
          "text": [
            "1000 [ 0.49282757 -0.15007512  0.64748969  1.51727928] 1.2013133809011647\n"
          ]
        }
      ]
    },
    {
      "cell_type": "code",
      "source": [
        "def eval_model(X, y, verbose=False, eta=1e-4, tol=0.00001): \n",
        "    view_ind = 10**(-np.log10(tol)-2) if -np.log10(tol)-2>=1 else 1 # задаю параметр кратности вывода промежуточных результатов\n",
        "    np.random.seed(42)\n",
        "    W = np.random.randn(X.shape[0])\n",
        "    n = X.shape[1]\n",
        "    min_err = float('inf')  #начальное значение ошибки модели - бесконечность\n",
        "    n_iter = 0  # отслеживаю количество итераций\n",
        "    stop_chek = True\n",
        "    errors = []  # добавляю для визуализации кривой обучения\n",
        "    while stop_chek:\n",
        "        n_iter += 1\n",
        "        z = np.dot(W, X)\n",
        "        y_pred = sigmoid(z)\n",
        "        err = calc_logloss_mod(y, y_pred) # заменяю на измененную  функцию\n",
        "        errors.append(err)\n",
        "        if min_err - err > tol:  # отслеживаю текущее значение ошибки\n",
        "            min_err = err\n",
        "        else:  # если снижение прекратилось, останавливаемся.\n",
        "            print(\n",
        "                f'Stop descent! iteration: {n_iter}, weights: {W}, logloss: {min_err}')\n",
        "            stop_chek = False\n",
        "        W -= eta * (1/n * np.dot((y_pred - y), X.T))\n",
        "        if verbose:\n",
        "            if n_iter % view_ind == 0:\n",
        "                print(n_iter, W, err)\n",
        "    return W, min_err, n_iter"
      ],
      "metadata": {
        "id": "kcGp4mZUpp0R"
      },
      "execution_count": 48,
      "outputs": []
    },
    {
      "cell_type": "code",
      "source": [
        "W = eval_model(X_st, y, eta=0.6, tol=0.00001, verbose=True)"
      ],
      "metadata": {
        "colab": {
          "base_uri": "https://localhost:8080/"
        },
        "id": "rAO4-AjipsKB",
        "outputId": "ee10ebc7-45cf-4878-bc7c-03d870344181"
      },
      "execution_count": 49,
      "outputs": [
        {
          "output_type": "stream",
          "name": "stdout",
          "text": [
            "1000 [-8.650831   -1.25372329 -1.54901597  7.41955336] 0.2823965843259973\n",
            "2000 [-12.40065236  -1.54519184  -2.73360596  10.40076601] 0.24130322780777833\n",
            "3000 [-15.36100912  -1.79394114  -3.63840883  12.7942367 ] 0.21560879813812384\n",
            "4000 [-17.89496779  -2.01191968  -4.40078502  14.84932619] 0.1967862662226779\n",
            "5000 [-20.12312962  -2.20577442  -5.0641727   16.65729995] 0.18224763493044263\n",
            "6000 [-22.11355698  -2.38010899  -5.65216163  18.27197463] 0.17065959157189312\n",
            "Stop descent! iteration: 6204, weights: [-22.49301224  -2.41343975  -5.76381384  18.57970581], logloss: 0.1685880929323425\n"
          ]
        }
      ]
    },
    {
      "cell_type": "markdown",
      "source": [
        "Подбираю лучшие параметры для модели(поскольку функция сама отслеживает оптимальное количество итераций, то других параметров подбирать не нужно):"
      ],
      "metadata": {
        "id": "YkeRmq33whks"
      }
    },
    {
      "cell_type": "code",
      "source": [
        "def get_best_params(X,y,args):\n",
        "    best_params=[]\n",
        "    for arg in args:\n",
        "        W,err,n_iter = eval_model(X, y, eta=arg)\n",
        "        best_params.append((arg,err,n_iter))\n",
        "    best_params.sort(key=lambda x:x[1])\n",
        "    print(f'best - eta: {best_params[0][0]},\\nresults:\\nerr: {best_params[0][1]},\\nn_iter: {best_params[0][2]}')\n",
        "    return best_params[0]"
      ],
      "metadata": {
        "id": "9oyvC7Vopvcy"
      },
      "execution_count": 50,
      "outputs": []
    },
    {
      "cell_type": "code",
      "source": [
        "etas=[1, 0.5,0.1,0.05, 0.01, 0.005, 0.001, 0.0005, 0.0001, 0.00005, 0.00001, 0.000005, 0.000001, 0.0000005, 0.0000001]\n",
        "bp=get_best_params(X_st,y,etas)\n",
        "bp"
      ],
      "metadata": {
        "colab": {
          "base_uri": "https://localhost:8080/"
        },
        "id": "whnCpbbipyTX",
        "outputId": "97072535-a88c-403d-af76-712dac389d4f"
      },
      "execution_count": 51,
      "outputs": [
        {
          "output_type": "stream",
          "name": "stdout",
          "text": [
            "Stop descent! iteration: 4, weights: [-0.01512682 -1.44851808  0.75644797  1.06048112], logloss: 0.9360085439942413\n",
            "Stop descent! iteration: 6391, weights: [-20.79292735  -2.26433611  -5.26248927  17.20072759], logloss: 0.17820649249087692\n",
            "Stop descent! iteration: 5853, weights: [-8.53503588 -1.24557698 -1.51126618  7.32961021], logloss: 0.28385397215014785\n",
            "Stop descent! iteration: 6493, weights: [-6.18756485 -1.10137381 -0.7192765   5.56154533], logloss: 0.3198397227902269\n",
            "Stop descent! iteration: 6823, weights: [-2.01966427 -0.97319445  0.84001927  2.78391711], logloss: 0.43337113257078075\n",
            "Stop descent! iteration: 4134, weights: [-0.6636217  -0.82018794  1.11647506  1.7462896 ], logloss: 0.4980620278791868\n",
            "Stop descent! iteration: 3017, weights: [ 0.06153887 -0.68603638  0.85254687  1.2130508 ], logloss: 0.555828709755477\n",
            "Stop descent! iteration: 3104, weights: [ 0.19306961 -0.69531514  0.74058514  1.21943805], logloss: 0.5765738129341405\n",
            "Stop descent! iteration: 6890, weights: [ 0.30486547 -0.64297726  0.65967984  1.27145631], logloss: 0.608860244923452\n",
            "Stop descent! iteration: 11196, weights: [ 0.32871646 -0.60814204  0.6497502   1.29299115], logloss: 0.6272419108714266\n",
            "Stop descent! iteration: 29779, weights: [ 0.39267294 -0.45708299  0.6408199   1.37066871], logloss: 0.7608933828168416\n",
            "Stop descent! iteration: 2, weights: [ 0.4967122  -0.13827022  0.64768844  1.52302697], logloss: 1.220065627789983\n",
            "Stop descent! iteration: 2, weights: [ 0.49671376 -0.13826548  0.64768852  1.52302928], logloss: 1.220065627789983\n",
            "Stop descent! iteration: 2, weights: [ 0.49671396 -0.13826489  0.64768853  1.52302957], logloss: 1.220065627789983\n",
            "Stop descent! iteration: 2, weights: [ 0.49671411 -0.13826442  0.64768854  1.5230298 ], logloss: 1.220065627789983\n",
            "best - eta: 0.5,\n",
            "results:\n",
            "err: 0.17820649249087692,\n",
            "n_iter: 6391\n"
          ]
        },
        {
          "output_type": "execute_result",
          "data": {
            "text/plain": [
              "(0.5, 0.17820649249087692, 6391)"
            ]
          },
          "metadata": {},
          "execution_count": 51
        }
      ]
    },
    {
      "cell_type": "markdown",
      "source": [
        "лучший результат получается при eta = 0.5, пробую подобрать оучший параметр на интервале (1,0.1)"
      ],
      "metadata": {
        "id": "oOclKmvmwqzz"
      }
    },
    {
      "cell_type": "code",
      "source": [
        "etas=np.arange(1,10)/10\n",
        "bp=get_best_params(X_st,y,etas)\n",
        "bp"
      ],
      "metadata": {
        "colab": {
          "base_uri": "https://localhost:8080/"
        },
        "id": "ieh6ZoWTrIEp",
        "outputId": "bf0530fc-aba3-40f2-de58-fc3b949ead31"
      },
      "execution_count": 52,
      "outputs": [
        {
          "output_type": "stream",
          "name": "stdout",
          "text": [
            "Stop descent! iteration: 5853, weights: [-8.53503588 -1.24557698 -1.51126618  7.32961021], logloss: 0.28385397215014785\n",
            "Stop descent! iteration: 6187, weights: [-12.59825223  -1.5614873   -2.79460722  10.55999424], logloss: 0.23942165779557908\n",
            "Stop descent! iteration: 6534, weights: [-16.06978213  -1.85457135  -3.85261322  13.36879382], logloss: 0.21006752362747183\n",
            "Stop descent! iteration: 6535, weights: [-18.71799582  -2.08333293  -4.64651497  15.51714508], logloss: 0.19120600628315837\n",
            "Stop descent! iteration: 6391, weights: [-20.79292735  -2.26433611  -5.26248927  17.20072759], logloss: 0.17820649249087692\n",
            "Stop descent! iteration: 6204, weights: [-22.49301224  -2.41343975  -5.76381384  18.57970581], logloss: 0.1685880929323425\n",
            "Stop descent! iteration: 6, weights: [ 9.91945996e-04 -8.78773470e-01  8.74063808e-01  1.19348750e+00], logloss: 0.5868163760298956\n",
            "Stop descent! iteration: 4, weights: [ 0.06140228 -1.1126246   0.76192585  1.11769668], logloss: 0.6865501501467717\n",
            "Stop descent! iteration: 4, weights: [ 0.018576   -1.31433745  0.75285106  1.07760698], logloss: 0.8025549653255653\n",
            "best - eta: 0.6,\n",
            "results:\n",
            "err: 0.1685880929323425,\n",
            "n_iter: 6204\n"
          ]
        },
        {
          "output_type": "execute_result",
          "data": {
            "text/plain": [
              "(0.6, 0.1685880929323425, 6204)"
            ]
          },
          "metadata": {},
          "execution_count": 52
        }
      ]
    },
    {
      "cell_type": "markdown",
      "source": [
        "лучший параметр eta =0.6"
      ],
      "metadata": {
        "id": "ttj5YgPDw-Za"
      }
    },
    {
      "cell_type": "markdown",
      "source": [
        "Создайте функцию calc_pred_proba, возвращающую предсказанную вероятность класса 1 (на вход подаются W, который уже посчитан функцией eval_model и X, на выходе - массив y_pred_proba)."
      ],
      "metadata": {
        "id": "GNoltG57xBdG"
      }
    },
    {
      "cell_type": "code",
      "source": [
        "def calc_pred_proba(w, x): \n",
        "    pred_proba = sigmoid(np.dot(w, x))\n",
        "    return pred_proba"
      ],
      "metadata": {
        "id": "R7y4JD2arLzf"
      },
      "execution_count": 26,
      "outputs": []
    },
    {
      "cell_type": "code",
      "source": [
        "W,_err,_it = eval_model(X_st, y, alpha=0.6, verbose=True)"
      ],
      "metadata": {
        "colab": {
          "base_uri": "https://localhost:8080/"
        },
        "id": "c7S4K7ntrOwp",
        "outputId": "85d3c9d6-b951-417e-c167-5715051df937"
      },
      "execution_count": 27,
      "outputs": [
        {
          "output_type": "stream",
          "name": "stdout",
          "text": [
            "1000 [-8.650831   -1.25372329 -1.54901597  7.41955336] 0.2823965843259973\n",
            "2000 [-12.40065236  -1.54519184  -2.73360596  10.40076601] 0.24130322780777833\n",
            "3000 [-15.36100912  -1.79394114  -3.63840883  12.7942367 ] 0.21560879813812384\n",
            "4000 [-17.89496779  -2.01191968  -4.40078502  14.84932619] 0.1967862662226779\n",
            "5000 [-20.12312962  -2.20577442  -5.0641727   16.65729995] 0.18224763493044263\n",
            "6000 [-22.11355698  -2.38010899  -5.65216163  18.27197463] 0.17065959157189312\n",
            "Stop descent! iteration: 6204, weights: [-22.49301224  -2.41343975  -5.76381384  18.57970581], logloss: 0.1685880929323425\n"
          ]
        }
      ]
    },
    {
      "cell_type": "code",
      "source": [
        "y_pred_prob = calc_pred_proba(W, X_st)\n",
        "y_pred_prob"
      ],
      "metadata": {
        "colab": {
          "base_uri": "https://localhost:8080/"
        },
        "id": "ac94x84lrSDS",
        "outputId": "93003597-e04d-4307-e9b8-0e54900620ec"
      },
      "execution_count": 28,
      "outputs": [
        {
          "output_type": "execute_result",
          "data": {
            "text/plain": [
              "array([0.33613789, 0.04486849, 0.99999633, 0.13361891, 0.85570148,\n",
              "       0.13784668, 0.99999968, 0.04426597, 0.47847259, 0.99992831])"
            ]
          },
          "metadata": {},
          "execution_count": 28
        }
      ]
    },
    {
      "cell_type": "markdown",
      "source": [
        "Создайте функцию calc_pred, возвращающую предсказанный класс (на вход подаются W, который уже посчитан функцией eval_model и X, на выходе - массив y_pred)."
      ],
      "metadata": {
        "id": "eT4HkmPqxOAz"
      }
    },
    {
      "cell_type": "code",
      "source": [
        "def calc_pred(w,x, prob_lim=0.5):    \n",
        "    pred_proba = sigmoid(np.dot(w, x))\n",
        "    pred=np.zeros_like(pred_proba)\n",
        "    for idx, prob in enumerate(pred_proba):\n",
        "        if prob>prob_lim:\n",
        "            pred[idx]=1\n",
        "    return pred"
      ],
      "metadata": {
        "id": "78flc2j-rV_r"
      },
      "execution_count": 29,
      "outputs": []
    },
    {
      "cell_type": "code",
      "source": [
        "y_pred=calc_pred(W, X_st)\n",
        "y_pred"
      ],
      "metadata": {
        "colab": {
          "base_uri": "https://localhost:8080/"
        },
        "id": "i940gbXAsa7W",
        "outputId": "b636f2d1-bab5-4df3-d32d-ce4667879fd9"
      },
      "execution_count": 30,
      "outputs": [
        {
          "output_type": "execute_result",
          "data": {
            "text/plain": [
              "array([0., 0., 1., 0., 1., 0., 1., 0., 0., 1.])"
            ]
          },
          "metadata": {},
          "execution_count": 30
        }
      ]
    }
  ]
}