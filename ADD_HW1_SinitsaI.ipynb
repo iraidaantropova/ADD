{
  "nbformat": 4,
  "nbformat_minor": 0,
  "metadata": {
    "colab": {
      "provenance": [],
      "authorship_tag": "ABX9TyOQD25bkU9ap/TkJ22ghBgR",
      "include_colab_link": true
    },
    "kernelspec": {
      "name": "python3",
      "display_name": "Python 3"
    },
    "language_info": {
      "name": "python"
    }
  },
  "cells": [
    {
      "cell_type": "markdown",
      "metadata": {
        "id": "view-in-github",
        "colab_type": "text"
      },
      "source": [
        "<a href=\"https://colab.research.google.com/github/iraidaantropova/ADD/blob/main/ADD_HW1_SinitsaI.ipynb\" target=\"_parent\"><img src=\"https://colab.research.google.com/assets/colab-badge.svg\" alt=\"Open In Colab\"/></a>"
      ]
    },
    {
      "cell_type": "markdown",
      "source": [
        "Урок 1. Алгоритм линейной регрессии. Градиентный спуск\n",
        "\n",
        "Рекомендации по оформлению кода:\n",
        "\n",
        "исправляя код из ноутбука, указывайте, пожалуйста, где были сделаны изменения, \n",
        "чтобы было легче ориентироваться в коде, к тому же это повысит скорость проверки работы.\n",
        "\n",
        "Домашнее задание:\n",
        "Используя файл Lesson_1_extended.ipynb (он в web1.zip в материалах):\n",
        "\n",
        "\n",
        "Подберите скорость обучения и количество итераций\n",
        "\n",
        "\n",
        "\n",
        "\n"
      ],
      "metadata": {
        "id": "-GLBBFhFiDqQ"
      }
    },
    {
      "cell_type": "code",
      "source": [
        "import numpy as np\n",
        "import matplotlib.pyplot as plt\n",
        "from mpl_toolkits.mplot3d.axes3d import Axes3D\n",
        "%matplotlib inline\n",
        "import warnings\n",
        "warnings.filterwarnings('ignore')"
      ],
      "metadata": {
        "id": "HsrKRZj4jDtE"
      },
      "execution_count": 20,
      "outputs": []
    },
    {
      "cell_type": "code",
      "source": [
        "X = np.array([[ 1,  1],\n",
        "              [ 1,  1],\n",
        "              [ 1,  2],\n",
        "              [ 1,  5],\n",
        "              [ 1,  3],\n",
        "              [ 1,  0],\n",
        "              [ 1,  5],\n",
        "              [ 1, 10],\n",
        "              [ 1,  1],\n",
        "              [ 1,  2]])"
      ],
      "metadata": {
        "id": "uD3PxfQSL9Z3"
      },
      "execution_count": 21,
      "outputs": []
    },
    {
      "cell_type": "code",
      "source": [
        "X.shape"
      ],
      "metadata": {
        "colab": {
          "base_uri": "https://localhost:8080/"
        },
        "id": "UPrP2VRHL-cd",
        "outputId": "50e299bb-ea98-428d-a48b-91bc7eb546fc"
      },
      "execution_count": 22,
      "outputs": [
        {
          "output_type": "execute_result",
          "data": {
            "text/plain": [
              "(10, 2)"
            ]
          },
          "metadata": {},
          "execution_count": 22
        }
      ]
    },
    {
      "cell_type": "code",
      "source": [
        "y = [45, 55, 50, 55, 60, 35, 75, 80, 50, 60]\n"
      ],
      "metadata": {
        "id": "9AcpaUYINKo9"
      },
      "execution_count": 23,
      "outputs": []
    },
    {
      "cell_type": "code",
      "source": [
        "def calc_mse(y, y_pred):\n",
        "    err = np.mean((y - y_pred)**2)\n",
        "    return err"
      ],
      "metadata": {
        "id": "E5EldK-nRnHS"
      },
      "execution_count": 24,
      "outputs": []
    },
    {
      "cell_type": "code",
      "source": [
        "calc_mse(y, y_pred1)"
      ],
      "metadata": {
        "colab": {
          "base_uri": "https://localhost:8080/"
        },
        "id": "GrJFq1hRR73D",
        "outputId": "ad583a1c-da43-4977-e25c-0f84c6c20b23"
      },
      "execution_count": 25,
      "outputs": [
        {
          "output_type": "execute_result",
          "data": {
            "text/plain": [
              "97.5"
            ]
          },
          "metadata": {},
          "execution_count": 25
        }
      ]
    },
    {
      "cell_type": "code",
      "source": [
        "n = X.shape[0]\n",
        "\n",
        "eta = 0.1\n",
        "n_iter = 500\n",
        "\n",
        "W = np.array([1, 0.5])\n",
        "print(f'Number of objects = {n} \\\n",
        "       \\nLearning rate = {eta} \\\n",
        "       \\nInitial weights = {W} \\n')\n",
        "\n",
        "for i in range(n_iter):\n",
        "    y_pred = np.dot(X, W)\n",
        "    err = calc_mse(y, y_pred)\n",
        "    for k in range(W.shape[0]):\n",
        "        W[k] -= eta * (1/n * 2 * X[:, k] @ (y_pred - y))\n",
        "    if i % 10 == 0:\n",
        "        eta /= 1.1\n",
        "        print(f'Iteration #{i}: W_new = {W}, MSE = {round(err, 2)}')"
      ],
      "metadata": {
        "colab": {
          "base_uri": "https://localhost:8080/"
        },
        "id": "5nlxJ5vtkb_K",
        "outputId": "00a0969d-9ab5-41a8-bc67-3c99c015345e"
      },
      "execution_count": 26,
      "outputs": [
        {
          "output_type": "stream",
          "name": "stdout",
          "text": [
            "Number of objects = 10        \n",
            "Learning rate = 0.1        \n",
            "Initial weights = [1.  0.5] \n",
            "\n",
            "Iteration #0: W_new = [11.8 38.2], MSE = 3047.75\n",
            "Iteration #10: W_new = [12651.73553914 69617.0969639 ], MSE = 18310954068.05\n",
            "Iteration #20: W_new = [ 7732434.81888022 42641607.3785219 ], MSE = 9128819654907584.0\n",
            "Iteration #30: W_new = [1.06344502e+09 5.86454589e+09], MSE = 2.327920364266852e+20\n",
            "Iteration #40: W_new = [3.00127077e+10 1.65510116e+11], MSE = 2.545133529815946e+23\n",
            "Iteration #50: W_new = [1.55345341e+11 8.56677968e+11], MSE = 9.572295620500115e+24\n",
            "Iteration #60: W_new = [1.27742291e+11 7.04456313e+11], MSE = 9.35148012647598e+24\n",
            "Iteration #70: W_new = [1.38141953e+10 7.61806995e+10], MSE = 1.6408589528283862e+23\n",
            "Iteration #80: W_new = [1.51674189e+08 8.36432543e+08], MSE = 3.1255335378744607e+19\n",
            "Iteration #90: W_new = [116395.49982335 641638.79865344], MSE = 31317286806394.33\n",
            "Iteration #100: W_new = [48.41962396 22.99884644], MSE = 53518.86\n",
            "Iteration #110: W_new = [44.97713118  3.82798845], MSE = 43.97\n",
            "Iteration #120: W_new = [44.99893245  3.82402699], MSE = 43.97\n",
            "Iteration #130: W_new = [45.01386326  3.82131952], MSE = 43.97\n",
            "Iteration #140: W_new = [45.0243589  3.8194163], MSE = 43.97\n",
            "Iteration #150: W_new = [45.03191376  3.81804634], MSE = 43.97\n",
            "Iteration #160: W_new = [45.03746993  3.81703882], MSE = 43.97\n",
            "Iteration #170: W_new = [45.04163658  3.81628326], MSE = 43.97\n",
            "Iteration #180: W_new = [45.04481694  3.81570655], MSE = 43.97\n",
            "Iteration #190: W_new = [45.04728371  3.81525924], MSE = 43.97\n",
            "Iteration #200: W_new = [45.04922507  3.8149072 ], MSE = 43.97\n",
            "Iteration #210: W_new = [45.05077324  3.81462647], MSE = 43.97\n",
            "Iteration #220: W_new = [45.05202275  3.81439989], MSE = 43.97\n",
            "Iteration #230: W_new = [45.05304225  3.81421502], MSE = 43.97\n",
            "Iteration #240: W_new = [45.05388235  3.81406268], MSE = 43.97\n",
            "Iteration #250: W_new = [45.05458086  3.81393601], MSE = 43.97\n",
            "Iteration #260: W_new = [45.05516639  3.81382984], MSE = 43.97\n",
            "Iteration #270: W_new = [45.05566087  3.81374017], MSE = 43.97\n",
            "Iteration #280: W_new = [45.05608128  3.81366394], MSE = 43.97\n",
            "Iteration #290: W_new = [45.0564409   3.81359872], MSE = 43.97\n",
            "Iteration #300: W_new = [45.05675023  3.81354263], MSE = 43.97\n",
            "Iteration #310: W_new = [45.05701766  3.81349414], MSE = 43.97\n",
            "Iteration #320: W_new = [45.05724991  3.81345202], MSE = 43.97\n",
            "Iteration #330: W_new = [45.05745247  3.81341529], MSE = 43.97\n",
            "Iteration #340: W_new = [45.05762978  3.81338314], MSE = 43.97\n",
            "Iteration #350: W_new = [45.05778555  3.81335489], MSE = 43.97\n",
            "Iteration #360: W_new = [45.0579228  3.81333  ], MSE = 43.97\n",
            "Iteration #370: W_new = [45.05804409  3.81330801], MSE = 43.97\n",
            "Iteration #380: W_new = [45.05815155  3.81328852], MSE = 43.97\n",
            "Iteration #390: W_new = [45.05824698  3.81327122], MSE = 43.97\n",
            "Iteration #400: W_new = [45.05833191  3.81325582], MSE = 43.97\n",
            "Iteration #410: W_new = [45.05840763  3.81324209], MSE = 43.97\n",
            "Iteration #420: W_new = [45.05847528  3.81322982], MSE = 43.97\n",
            "Iteration #430: W_new = [45.0585358   3.81321885], MSE = 43.97\n",
            "Iteration #440: W_new = [45.05859002  3.81320901], MSE = 43.97\n",
            "Iteration #450: W_new = [45.05863866  3.81320019], MSE = 43.97\n",
            "Iteration #460: W_new = [45.05868236  3.81319227], MSE = 43.97\n",
            "Iteration #470: W_new = [45.05872165  3.81318514], MSE = 43.97\n",
            "Iteration #480: W_new = [45.05875702  3.81317873], MSE = 43.97\n",
            "Iteration #490: W_new = [45.05878888  3.81317295], MSE = 43.97\n"
          ]
        }
      ]
    }
  ]
}