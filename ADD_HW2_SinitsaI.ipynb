{
  "nbformat": 4,
  "nbformat_minor": 0,
  "metadata": {
    "colab": {
      "provenance": [],
      "authorship_tag": "ABX9TyPYSw02LnGrPBowlM8dK0Ru",
      "include_colab_link": true
    },
    "kernelspec": {
      "name": "python3",
      "display_name": "Python 3"
    },
    "language_info": {
      "name": "python"
    }
  },
  "cells": [
    {
      "cell_type": "markdown",
      "metadata": {
        "id": "view-in-github",
        "colab_type": "text"
      },
      "source": [
        "<a href=\"https://colab.research.google.com/github/iraidaantropova/ADD/blob/main/ADD_HW2_SinitsaI.ipynb\" target=\"_parent\"><img src=\"https://colab.research.google.com/assets/colab-badge.svg\" alt=\"Open In Colab\"/></a>"
      ]
    },
    {
      "cell_type": "markdown",
      "source": [
        "\n",
        "Урок 2. Масштабирование признаков. L1- и L2-регуляризация. Стохастический градиентный спуск\n",
        "\n",
        "\n",
        "Домашнее задание:\n",
        "\n",
        "\n",
        "\n",
        "\n",
        "\n",
        "\n"
      ],
      "metadata": {
        "id": "gfTQSRHaPNws"
      }
    },
    {
      "cell_type": "code",
      "source": [
        "import numpy as np\n",
        "from sklearn import datasets\n",
        "import matplotlib.pyplot as plt\n",
        "from mpl_toolkits.mplot3d.axes3d import Axes3D\n",
        "from sklearn.datasets import make_regression\n",
        "\n",
        "%matplotlib inline\n",
        "import warnings\n",
        "warnings.filterwarnings('ignore')"
      ],
      "metadata": {
        "id": "qWxxAGROPggh"
      },
      "execution_count": 2,
      "outputs": []
    },
    {
      "cell_type": "markdown",
      "source": [
        "*Сгенерируйте датасет при помощи sklearn.datasets.make_regression и обучите линейную модель при помощи градиентного и стохастического градиентного спуска. \n",
        "Нанесите среднеквадратичную ошибку для обоих методов на один график, сделайте выводы о разнице скорости сходимости каждого из методов."
      ],
      "metadata": {
        "id": "RYsQ4hHMZQMN"
      }
    },
    {
      "cell_type": "code",
      "source": [
        "X, y, W_default = make_regression(\n",
        "    n_features=10,\n",
        "    bias=3.5,\n",
        "    noise=1.2,\n",
        "    coef=True,\n",
        "    random_state=42\n",
        ")"
      ],
      "metadata": {
        "id": "Bvf1XxIqY8ic"
      },
      "execution_count": 3,
      "outputs": []
    },
    {
      "cell_type": "code",
      "source": [
        "W_default #вектор весов данной модели"
      ],
      "metadata": {
        "colab": {
          "base_uri": "https://localhost:8080/"
        },
        "id": "Sn51fzhiY8o6",
        "outputId": "7bae9f92-4b85-41f9-c119-a1521b840f69"
      },
      "execution_count": 4,
      "outputs": [
        {
          "output_type": "execute_result",
          "data": {
            "text/plain": [
              "array([16.74825823, 54.12963353,  5.19712837, 63.64302495, 93.62122462,\n",
              "       70.64757265, 87.09691237, 10.45678403,  3.15861448, 70.90605195])"
            ]
          },
          "metadata": {},
          "execution_count": 4
        }
      ]
    },
    {
      "cell_type": "code",
      "source": [
        "y_pred_default = X @ W_default #рассчитываю предсказания данной модели"
      ],
      "metadata": {
        "id": "1xmGElsIZYpX"
      },
      "execution_count": 5,
      "outputs": []
    },
    {
      "cell_type": "code",
      "source": [
        "def calc_mse(y, y_pred):\n",
        "    err = np.mean((y - y_pred) ** 2)\n",
        "    return err #считаю MSE"
      ],
      "metadata": {
        "id": "zYCQ5vYwZhS9"
      },
      "execution_count": 6,
      "outputs": []
    },
    {
      "cell_type": "code",
      "source": [
        "mse_default = calc_mse(y, y_pred_default)\n",
        "mse_default"
      ],
      "metadata": {
        "colab": {
          "base_uri": "https://localhost:8080/"
        },
        "id": "MpEyuoxzZm-m",
        "outputId": "28ef53b0-d1a1-42fb-f7fc-ffbb61441466"
      },
      "execution_count": 7,
      "outputs": [
        {
          "output_type": "execute_result",
          "data": {
            "text/plain": [
              "14.867688515340433"
            ]
          },
          "metadata": {},
          "execution_count": 7
        }
      ]
    },
    {
      "cell_type": "code",
      "source": [
        "def my_grad_desc(X, y, alpha=1e-04, verbose=False, tol=0.0): #пробую оптимизировать модель с помощью градиентного спуска\n",
        "    '''\n",
        "    :param X: features array\n",
        "    :param y: target array\n",
        "    :param alpha: learning rate, float default=1e-04\n",
        "    :param verbose: prints progress and performance once in a while, bool default False\n",
        "    :param tol: when mse is not improving by at least tol, the searching stops, float default 0.0\n",
        "    :return: weights array, mse\n",
        "\n",
        "    '''\n",
        "    n = X.shape[0]\n",
        "    W = np.random.randn(X.shape[1], )  # задаю начальное значение весов\n",
        "    min_err = float('inf')  #начальное значение ошибки модели - бесконечность\n",
        "    n_iter = 0  # отслеживаю количество итераций\n",
        "    stop_chek = True  #буду отслеживать снижение ошибки\n",
        "    errors = []  # добавляю для визуализации кривой обучения\n",
        "    while stop_chek:\n",
        "        n_iter += 1\n",
        "        y_pred = W @ X.T\n",
        "        err = calc_mse(y, y_pred)\n",
        "        errors.append(err)\n",
        "        if min_err - err > tol:  # контролирую текущее значение ошибки\n",
        "            min_err = err\n",
        "        else:  # если снижение прекратилось, останавливаюсь.\n",
        "            print(\n",
        "                f'Stop descent! iteration: {n_iter}, weights: {W}, mse: {min_err}')\n",
        "            stop_chek = False\n",
        "        W -= alpha * (1 / n * 2 * np.sum(X.T * (y_pred - y), axis=1))\n",
        "        if verbose:\n",
        "            if n_iter % 100 == 0:\n",
        "                print(n_iter, W, err)\n",
        "    return W, min_err, errors"
      ],
      "metadata": {
        "id": "tZZ7yIliZunE"
      },
      "execution_count": 8,
      "outputs": []
    },
    {
      "cell_type": "code",
      "source": [
        "W_1, mse_1, score_1 = my_grad_desc(X, y, alpha=0.001, tol=0.00001)"
      ],
      "metadata": {
        "colab": {
          "base_uri": "https://localhost:8080/"
        },
        "id": "uqnSMCrZaMal",
        "outputId": "d2c9379e-bf96-45e3-e590-44731bdb868d"
      },
      "execution_count": 9,
      "outputs": [
        {
          "output_type": "stream",
          "name": "stdout",
          "text": [
            "Stop descent! iteration: 6709, weights: [17.01929729 54.46973397  4.75448857 63.30940302 93.39775624 71.04156752\n",
            " 86.98609084 10.23663697  3.51134035 70.81187625], mse: 14.301233925406402\n"
          ]
        }
      ]
    },
    {
      "cell_type": "code",
      "source": [
        "def my_sgd(X, y, alpha=1e-04, batch_size=1, n_epoch=1e+06, verbose=False, tol=0.0): #осуществляю SGD\n",
        "    '''\n",
        "    :param X: features array\n",
        "    :param y: target array\n",
        "    :param alpha: learning rate, float default 1e-04\n",
        "    :param batch_size: bath_size, int default 1\n",
        "    :param n_epoh: number of training epochs, int default 1e+06\n",
        "    :param verbose: prints progress and performance once in a while, bool default False\n",
        "    :param tol: when mse is not improving by at least tol, the searching stops, float default 0.0\n",
        "    :return: weights array, mse\n",
        "    the function stops when the tol or n_epoch parameter is reached\n",
        "    \n",
        "    '''\n",
        "    n = X.shape[0]\n",
        "    W = np.random.randn(X.shape[1], )  # задаю начальное значение весов\n",
        "    n_batch = n // batch_size  # определяю количество батчей\n",
        "    if n % batch_size != 0:\n",
        "        n_batch += 1\n",
        "    min_err = float('inf')  #начальное значение ошибки модели - бесконечность\n",
        "    n_iter = 0  # отслеживаю количество итераций\n",
        "    stop_chek = True  #буду отслеживать снижение ошибки\n",
        "    errors = []  # добавляю для визуализации кривой обучения\n",
        "    while stop_chek:\n",
        "        n_iter += 1\n",
        "        for b in range(n_batch):\n",
        "            start_ = batch_size * b\n",
        "            end_ = batch_size * (b + 1)\n",
        "            X_tmp = X.T[:, start_: end_]\n",
        "            y_tmp = y[start_: end_]\n",
        "            y_pred = W @ X_tmp\n",
        "            err = calc_mse(y_tmp, y_pred)\n",
        "            W -= alpha * (1 / n * 2 * (y_pred - y_tmp) @ X_tmp.T)\n",
        "        errors.append(err)\n",
        "        if verbose:\n",
        "            if n_iter % 1000 == 0:\n",
        "                print(n_iter, W, err)\n",
        "        if n_iter==n_epoch:                      # остановка по достижении n_epoch\n",
        "            print(\n",
        "                f'Stop descent! n_epoch: {n_iter}, weights: {W}, mse: {min_err}')\n",
        "            stop_chek = False\n",
        "        if np.abs(min_err - err) > tol:          # контролирую текущее значение ошибки\n",
        "            min_err = err if err<=min_err else min_err\n",
        "        else:                                    # остановка по достижении tol\n",
        "            print(\n",
        "                f'Stop descent! n_epoch: {n_iter}, weights: {W}, mse: {min_err}')\n",
        "            stop_chek = False\n",
        "        \n",
        "    return W, min_err, errors"
      ],
      "metadata": {
        "id": "ZP4oR6jUaTwm"
      },
      "execution_count": 10,
      "outputs": []
    },
    {
      "cell_type": "code",
      "source": [
        "W_2, mse_2, score_2 = my_sgd(X, y, alpha=0.001, batch_size=1, n_epoch=8000, tol=0.00001)"
      ],
      "metadata": {
        "colab": {
          "base_uri": "https://localhost:8080/"
        },
        "id": "1aBAdsJbay8o",
        "outputId": "73bc5a82-9ebe-4719-e5a1-2b09b6fd5f03"
      },
      "execution_count": 11,
      "outputs": [
        {
          "output_type": "stream",
          "name": "stdout",
          "text": [
            "Stop descent! n_epoch: 5485, weights: [17.03816167 54.52489416  4.67919921 63.30903778 93.32434146 71.13538947\n",
            " 86.88484244 10.12434568  3.54190911 70.68419134], mse: 10.993523580510427\n"
          ]
        }
      ]
    },
    {
      "cell_type": "code",
      "source": [
        "plt.figure(figsize=(16, 10))\n",
        "plt.ylim((0,2000))\n",
        "plt.xlim((0,len(score_1)-1000))\n",
        "plt.plot([x for x in range(len(score_1))], score_1, label='GD-method')\n",
        "plt.plot([x for x in range(len(score_2))], score_2, c='r', label='SGD-method')\n",
        "plt.axhline(mse_default, c='gray', ls='--', label=r'calculated indicator $MSE$', mew=0.9)\n",
        "plt.xlabel('iteratoin number')\n",
        "plt.xticks(list(plt.xticks()[0])+[len(score_1), len(score_2)])\n",
        "plt.ylabel(r'$MSE$')\n",
        "plt.legend()\n",
        "plt.show()"
      ],
      "metadata": {
        "colab": {
          "base_uri": "https://localhost:8080/",
          "height": 855
        },
        "id": "o9p3AchOa9hL",
        "outputId": "763518cb-298b-417f-c70f-9e04e6321a32"
      },
      "execution_count": 12,
      "outputs": [
        {
          "output_type": "display_data",
          "data": {
            "text/plain": [
              "<Figure size 1600x1000 with 1 Axes>"
            ],
            "image/png": "[encoded data removed]"
          },
          "metadata": {}
        }
      ]
    },
    {
      "cell_type": "code",
      "source": [
        "len(score_1)"
      ],
      "metadata": {
        "colab": {
          "base_uri": "https://localhost:8080/"
        },
        "id": "iYlwaOAebHDZ",
        "outputId": "8e3c1a93-2f99-46ed-f03f-acb5fce1c2b9"
      },
      "execution_count": 13,
      "outputs": [
        {
          "output_type": "execute_result",
          "data": {
            "text/plain": [
              "6709"
            ]
          },
          "metadata": {},
          "execution_count": 13
        }
      ]
    },
    {
      "cell_type": "markdown",
      "source": [
        "На основании графиков можно сделать вывод что примерно до 800-й итерации SGD\n",
        " 'расходился'(значение mse росло), затем, до уроня 2300-2400 итераций оба алгоритма сходились, при этом скорость схождения GD была выше, чем у SGD. Однако затем скорости уравнялись, и SGD сошелся раньше чем GD."
      ],
      "metadata": {
        "id": "lR26vhsmbiI4"
      }
    },
    {
      "cell_type": "markdown",
      "source": [
        "1  Используя файл Lesson_2_extended.ipynb (он в web2.zip в материалах)::\n",
        "\n",
        "\n",
        "Напишите функцию наподобие gradient_descent_reg_l2, но для применения L1-регуляризации"
      ],
      "metadata": {
        "id": "ttd0RjAMgQWV"
      }
    },
    {
      "cell_type": "markdown",
      "source": [
        "__Задача:__ предсказание баллов ЕГЭ ученика"
      ],
      "metadata": {
        "id": "gNT5zJ23bJcw"
      }
    },
    {
      "cell_type": "code",
      "source": [
        "X = np.array([[   1,    1,  500,    1],\n",
        "              [   1,    1,  700,    1],\n",
        "              [   1,    2,  750,    2],\n",
        "              [   1,    5,  600,    1],\n",
        "              [   1,    3, 1450,    2],\n",
        "              [   1,    0,  800,    1],\n",
        "              [   1,    5, 1500,    3],\n",
        "              [   1,   10, 2000,    3],\n",
        "              [   1,    1,  450,    1],\n",
        "              [   1,    2, 1000,    2]])"
      ],
      "metadata": {
        "id": "8FkSed_IbQt5"
      },
      "execution_count": 14,
      "outputs": []
    },
    {
      "cell_type": "code",
      "source": [
        "y = [45, 55, 50, 55, 60, 35, 75, 80, 50, 60]"
      ],
      "metadata": {
        "id": "VGkI2_iTbm5e"
      },
      "execution_count": 15,
      "outputs": []
    },
    {
      "cell_type": "code",
      "source": [
        "def standard_scale(X):\n",
        "    mean = X.mean()\n",
        "    std = X.std()\n",
        "    return (X - mean) / std"
      ],
      "metadata": {
        "id": "vrb2vywxcJpP"
      },
      "execution_count": 16,
      "outputs": []
    },
    {
      "cell_type": "code",
      "source": [
        "X_st = X.copy().astype(np.float64)\n",
        "X_st[:, 1:4] = standard_scale(X_st[:, 1:4])\n",
        "X_st"
      ],
      "metadata": {
        "colab": {
          "base_uri": "https://localhost:8080/"
        },
        "id": "yAg9bexLcJuZ",
        "outputId": "2a9a21a0-af87-490e-b515-7e8ad729dab2"
      },
      "execution_count": 17,
      "outputs": [
        {
          "output_type": "execute_result",
          "data": {
            "text/plain": [
              "array([[ 1.        , -0.60601512,  0.32283164, -0.60601512],\n",
              "       [ 1.        , -0.60601512,  0.69511491, -0.60601512],\n",
              "       [ 1.        , -0.6041537 ,  0.78818573, -0.6041537 ],\n",
              "       [ 1.        , -0.59856945,  0.50897328, -0.60601512],\n",
              "       [ 1.        , -0.60229229,  2.09117718, -0.6041537 ],\n",
              "       [ 1.        , -0.60787654,  0.88125655, -0.60601512],\n",
              "       [ 1.        , -0.59856945,  2.184248  , -0.60229229],\n",
              "       [ 1.        , -0.58926237,  3.11495618, -0.60229229],\n",
              "       [ 1.        , -0.60601512,  0.22976083, -0.60601512],\n",
              "       [ 1.        , -0.6041537 ,  1.25353982, -0.6041537 ]])"
            ]
          },
          "metadata": {},
          "execution_count": 17
        }
      ]
    },
    {
      "cell_type": "code",
      "source": [
        "def calc_mse(y, y_pred):\n",
        "    err = np.mean((y - y_pred)**2)\n",
        "    return err"
      ],
      "metadata": {
        "id": "9i4exSkdcckc"
      },
      "execution_count": 18,
      "outputs": []
    },
    {
      "cell_type": "code",
      "source": [
        "# классический  GD\n",
        "def gradient_descent(X, y, iterations, eta=1e-4):\n",
        "    W = np.random.randn(X.shape[1])\n",
        "    n = X.shape[0]\n",
        "    \n",
        "    for i in range(0, iterations):\n",
        "        y_pred = np.dot(X, W)\n",
        "        err = calc_mse(y, y_pred)\n",
        "        dQ = 2/n * X.T @ (y_pred - y) # градиент функции ошибки\n",
        "        W -= (eta * dQ)\n",
        "        if i % (iterations / 10) == 0:\n",
        "            print(f'Iter: {i}, weights: {W}, error {err}')\n",
        "    print(f'Final MSE: {calc_mse(y, np.dot(X, W))}')\n",
        "    return W"
      ],
      "metadata": {
        "id": "_8DSQ522d9ke"
      },
      "execution_count": 22,
      "outputs": []
    },
    {
      "cell_type": "code",
      "source": [
        "gradient_descent(X_st, y, iterations=5000, eta=1e-2)"
      ],
      "metadata": {
        "colab": {
          "base_uri": "https://localhost:8080/"
        },
        "id": "jePSMqsReB1m",
        "outputId": "977bc994-bf00-4513-ece2-caf96b5f627d"
      },
      "execution_count": 23,
      "outputs": [
        {
          "output_type": "stream",
          "name": "stdout",
          "text": [
            "Iter: 0, weights: [ 1.65427364 -1.82806363  0.72268371 -1.70638415], error 3270.851950271919\n",
            "Iter: 500, weights: [ 23.84985914 -15.12947608  11.86038746 -15.12867985], error 51.77169052626183\n",
            "Iter: 1000, weights: [ 24.07631089 -15.1294451   11.67026832 -15.24416184], error 51.73298208672437\n",
            "Iter: 1500, weights: [ 24.13581843 -15.02710168  11.66611346 -15.25813446], error 51.73012948215379\n",
            "Iter: 2000, weights: [ 24.19207031 -14.92277396  11.6655809  -15.27012766], error 51.72729094524448\n",
            "Iter: 2500, weights: [ 24.24825491 -14.81841616  11.66511894 -15.28208011], error 51.72445287747517\n",
            "Iter: 3000, weights: [ 24.30443432 -14.71406632  11.66465838 -15.29402956], error 51.72161527360906\n",
            "Iter: 3500, weights: [ 24.36060977 -14.60972521  11.66419789 -15.30597676], error 51.71877813356682\n",
            "Iter: 4000, weights: [ 24.41678126 -14.50539282  11.66373744 -15.31792172], error 51.71594145727096\n",
            "Iter: 4500, weights: [ 24.47294881 -14.40106916  11.66327702 -15.32986444], error 51.713105244644034\n",
            "Final MSE: 51.71026949560853\n"
          ]
        },
        {
          "output_type": "execute_result",
          "data": {
            "text/plain": [
              "array([ 24.52900009, -14.29696285,  11.66281756, -15.34178105])"
            ]
          },
          "metadata": {},
          "execution_count": 23
        }
      ]
    },
    {
      "cell_type": "code",
      "source": [
        "np.sign(0)"
      ],
      "metadata": {
        "colab": {
          "base_uri": "https://localhost:8080/"
        },
        "id": "8hWLqEaTdLRc",
        "outputId": "5cd4b0dd-9f70-4c3d-dd2b-7888982aea99"
      },
      "execution_count": 19,
      "outputs": [
        {
          "output_type": "execute_result",
          "data": {
            "text/plain": [
              "0"
            ]
          },
          "metadata": {},
          "execution_count": 19
        }
      ]
    },
    {
      "cell_type": "code",
      "source": [
        "def gradient_descent_reg_l1(X, y, iterations, eta=1e-4, reg=1e-8):\n",
        "    W = np.random.randn(X.shape[1])\n",
        "    n = X.shape[0]\n",
        "    \n",
        "    for i in range(0, iterations):\n",
        "        y_pred = np.dot(X, W)\n",
        "        err = calc_mse(y, y_pred)\n",
        "        \n",
        "        dQ = 2/n * X.T @ (y_pred - y) # градиент функции ошибки\n",
        "        dReg = reg * np.sign(W) # градиент регуляризации\n",
        "        \n",
        "        W -= eta * (dQ + dReg)\n",
        "        \n",
        "        if i % (iterations / 10) == 0:\n",
        "            print(f'Iter: {i}, weights: {W}, error {err}')\n",
        "    \n",
        "    print(f'Final MSE: {calc_mse(y, np.dot(X, W))}')\n",
        "    return W"
      ],
      "metadata": {
        "id": "gN-gG2Cpc2ev"
      },
      "execution_count": 20,
      "outputs": []
    },
    {
      "cell_type": "code",
      "source": [
        "gradient_descent_reg_l1(X_st, y, iterations=5000, eta=1e-2, reg=1e-2)"
      ],
      "metadata": {
        "colab": {
          "base_uri": "https://localhost:8080/"
        },
        "id": "PlVKttJldVe7",
        "outputId": "8021f648-5779-4952-fb48-991d8248d347"
      },
      "execution_count": 21,
      "outputs": [
        {
          "output_type": "stream",
          "name": "stdout",
          "text": [
            "Iter: 0, weights: [ 1.04361521 -0.05304362  2.45534542 -2.12489063], error 3154.720763867568\n",
            "Iter: 500, weights: [ 24.0479035  -13.83412494  11.8835614  -16.02032371], error 51.752169573847446\n",
            "Iter: 1000, weights: [ 24.3096332  -13.83594419  11.6694354  -16.1374834 ], error 51.70133453811263\n",
            "Iter: 1500, weights: [ 24.38334703 -13.72253699  11.66474609 -16.14032128], error 51.69807573580762\n",
            "Iter: 2000, weights: [ 24.45339432 -13.60689488  11.66413628 -16.14092998], error 51.69487559206632\n",
            "Iter: 2500, weights: [ 24.52336587 -13.49121873  11.66360597 -16.14149285], error 51.69167679408432\n",
            "Iter: 3000, weights: [ 24.59333163 -13.37555142  11.66307725 -16.14205244], error 51.68847855483193\n",
            "Iter: 3500, weights: [ 24.66329295 -13.25989378  11.6625486  -16.14260956], error 51.68528085901305\n",
            "Iter: 4000, weights: [ 24.73324988 -13.14424583  11.66201999 -16.14316424], error 51.6820837062386\n",
            "Iter: 4500, weights: [ 24.8032024  -13.02860755  11.66149142 -16.14371648], error 51.678887096409916\n",
            "Final MSE: 51.67569102943385\n"
          ]
        },
        {
          "output_type": "execute_result",
          "data": {
            "text/plain": [
              "array([ 24.87301062, -12.91321021,  11.66096396, -16.14426517])"
            ]
          },
          "metadata": {},
          "execution_count": 21
        }
      ]
    }
  ]
}